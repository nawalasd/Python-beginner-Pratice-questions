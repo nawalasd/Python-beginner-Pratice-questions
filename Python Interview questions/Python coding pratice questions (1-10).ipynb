{
 "cells": [
  {
   "cell_type": "markdown",
   "id": "10d60f87",
   "metadata": {},
   "source": [
    "### Question 1 : \n",
    "*** \n",
    "\n",
    "- Write a program which will find all such numbers which are divisible by 7 but are not a multiple of 5, between 2000 and 3200 (both included). \n",
    "\n",
    "- The numbers obtained should be printed in a comma-separated sequence on a single line."
   ]
  },
  {
   "cell_type": "code",
   "execution_count": null,
   "id": "04a80280",
   "metadata": {},
   "outputs": [],
   "source": [
    "for i in range(2000,3200+1) :\n",
    "    if i % 7 == 0 and i%5 != 0 : \n",
    "        print(i,end =',')\n"
   ]
  },
  {
   "cell_type": "markdown",
   "id": "65fb490e",
   "metadata": {},
   "source": [
    "***\n",
    "### Question 2 : \n",
    "\n",
    "\n",
    "- Create a method called twelver that accepts 2 integer arguments: a and b.\n",
    "- The method should return True if one of the arguments is 12\n",
    "  or if the sum of both arguments equals 12.\n",
    "\n",
    "- twelver(3, 12) → True\n",
    "- twelver(4, 9) → False\n",
    "- twelver(9, 3) → True\n",
    "\n",
    "\n"
   ]
  },
  {
   "cell_type": "code",
   "execution_count": null,
   "id": "c3e29856",
   "metadata": {},
   "outputs": [],
   "source": [
    "def twelver(a,b) : \n",
    "    \n",
    "    if a == 12 or b == 12 or (a+b) == 12  :\n",
    "        return True\n",
    "    else :\n",
    "        return False\n",
    "  \n",
    "a = 3\n",
    "b = 3\n",
    "twelver(a,b)\n"
   ]
  },
  {
   "cell_type": "markdown",
   "id": "ee8a6e2d",
   "metadata": {},
   "source": [
    "***\n",
    "### Question 3 : \n",
    "\n",
    "- Given a list of ints, return True if the sequence of numbers 1, 2, 3 appears in the list anywhere, false otherwise.\n",
    "\n",
    "\n",
    "    sequence([1, 1, 2, 3, 1]) → True\n",
    "\n",
    "    sequence([1, 1, 2, 4, 1]) → False\n",
    "\n",
    "    sequence([1, 1, 2, 1, 2, 3]) → True\n",
    "\n",
    "    sequence([1, 2]) → False\n",
    "\n",
    "    sequence([]) → False\n"
   ]
  },
  {
   "cell_type": "code",
   "execution_count": null,
   "id": "277eeb4c",
   "metadata": {},
   "outputs": [],
   "source": [
    "def sequence(lst) : \n",
    "    \n",
    "    for i in range(len(lst)-2) : \n",
    "        if lst[i] == 1 and lst[i+1] == 2 and lst[i+2] == 3 : \n",
    "            return True\n",
    "    else : \n",
    "        return False\n",
    "\n",
    "\n",
    "lst = [2,3]\n",
    "lst = [1, 1, 2, 1, 2, 3]\n",
    "lst =[]\n",
    "sequence(lst)"
   ]
  },
  {
   "cell_type": "markdown",
   "id": "04bc7490",
   "metadata": {},
   "source": [
    "*** \n",
    "### Assignment 4\n",
    "\n",
    "* Create a method called pay_extra that accepts 2 parameters: working, and hour. \n",
    "* This method will be used to decide whether an employee will receive extra pay or not. \n",
    "* If an employee is working during the hrs of 8pm until 8am in the morning, that means they should be paid extra.\n",
    "* In that situation the method should return true, otherwise it should return false.\n",
    "* NOTE: the hour parameter should be from 0-23.\n",
    "        So 8AM is hour 8, and 8PM is hour 20.\n",
    "* Example:\n",
    "    - pay_extra(True, 11) -> false\n",
    "    - pay_extra(False, 5) -> false\n",
    "    - pay_extra(True, 6)  -> true\n",
    "\n"
   ]
  },
  {
   "cell_type": "code",
   "execution_count": null,
   "id": "5e1fa679",
   "metadata": {},
   "outputs": [],
   "source": [
    "def pay_extra(working,hour) : \n",
    "    \n",
    "    return  (hour <= 8 or hour > 20) and working == True\n",
    "\n",
    "pay_extra(True,6)"
   ]
  },
  {
   "cell_type": "markdown",
   "id": "45ac54da",
   "metadata": {},
   "source": [
    "***\n",
    "###  Assignment 5\n",
    "\n",
    "- Given a non-empty string like \"Code\" return a string like \"CCoCodCode\".\n",
    "\n",
    "- Example :\n",
    "  - grow_string('Code') → 'CCoCodCode'\n",
    "  - grow_string('abc') → 'aababc'\n",
    "  - grow_string('ab') → 'aab'"
   ]
  },
  {
   "cell_type": "code",
   "execution_count": 47,
   "id": "1721cf90",
   "metadata": {},
   "outputs": [
    {
     "data": {
      "text/plain": [
       "'ababc'"
      ]
     },
     "execution_count": 47,
     "metadata": {},
     "output_type": "execute_result"
    }
   ],
   "source": [
    "def grow_string(string) : \n",
    "    \n",
    "    s = \"\"\n",
    "    for i in range(len(string)) : \n",
    "        s = s + string[0:i+i] # tranverse whole string \n",
    "    \n",
    "    return s\n",
    "\n",
    "\n",
    "string = 'Code'\n",
    "string = 'aab'\n",
    "string = \"a\"\n",
    "string = 'abc'\n",
    "grow_string(string)"
   ]
  },
  {
   "cell_type": "markdown",
   "id": "f420d294",
   "metadata": {},
   "source": [
    "***\n",
    "### Assignment 6\n",
    "\n",
    "- Define a method that accepts a list as an argument and returns True if one of the first_folder 4 elements\n",
    "  in the list is a 6. The list length may be less than 4.\n",
    "- Example : \n",
    "    - first3([1, 2, 6, 3, 4]) → True\n",
    "    - first3([1, 2, 3, 4, 6]) → False\n",
    "    - first3([1, 2, 3, 4, 5]) → False"
   ]
  },
  {
   "cell_type": "code",
   "execution_count": 50,
   "id": "0aef3f8a",
   "metadata": {},
   "outputs": [
    {
     "data": {
      "text/plain": [
       "False"
      ]
     },
     "execution_count": 50,
     "metadata": {},
     "output_type": "execute_result"
    }
   ],
   "source": [
    "def first4(lst) : \n",
    "    \n",
    "    return 6 in lst[:4]\n",
    "\n",
    "lst = [1,2,3,4]\n",
    "first4(lst)"
   ]
  },
  {
   "cell_type": "markdown",
   "id": "fb4bab38",
   "metadata": {},
   "source": [
    "***\n",
    "### Assignment 7 :\n",
    "\n",
    "- Create a function called last2 that accepts a string argument.\n",
    "- The function should return the count of the number of times that the last\n",
    "   2 characters appear in the rest of the string. You should not count\n",
    "      the last 2 characters as an occurrence. The last 2 characters is just the\n",
    "      sequence your function should look for in the remaining string.\n",
    "- So \"hixxxhi\" yields 1 (we won't count the end substring).\n",
    "- Example : \n",
    "    - last2('hixxhi') → 1\n",
    "    - last2('xaxxaxaxx') → 1\n",
    "    - last2('axxxaaxx') → 2"
   ]
  },
  {
   "cell_type": "code",
   "execution_count": null,
   "id": "a9f64f8c",
   "metadata": {},
   "outputs": [],
   "source": [
    "def last2(string): \n",
    "    \n",
    "    # first get last 2 characters : \n",
    "    last = string[-2:]\n",
    "    count = 0 \n",
    "    for i in range(len(string)-2) : \n",
    "        if last  == string[i:i+2] : \n",
    "            count = count + 1\n",
    "        \n",
    "    return count\n",
    "            \n",
    "\n",
    "\n",
    "string = 'hixxhi'\n",
    "string = 'xaxxaxaxx'\n",
    "string = 'axxxaaxx'\n",
    "last2(string)"
   ]
  },
  {
   "cell_type": "markdown",
   "id": "a1d2dfea",
   "metadata": {},
   "source": [
    "***\n",
    "### Assignment 8\n",
    "\n",
    "\n",
    "- Given 2 strings, a and b, return the number of the positions where\n",
    "       they contain the same length 2 substring. So \"xxcaazz\" and \"xxbaaz\"\n",
    "       yields 3, since the \"xx\", \"aa\", and \"az\" substrings appear in the same\n",
    "       place in both strings.\n",
    "       \n",
    "- EXAMPLE:\n",
    " - string_match('xxcaazz', 'xxbaaz') → 3\n",
    " - string_match('abc', 'abc') → 2\n",
    " - string_match('abc', 'axc') → 0"
   ]
  },
  {
   "cell_type": "code",
   "execution_count": null,
   "id": "c8048f4d",
   "metadata": {},
   "outputs": [],
   "source": [
    "#approach 1 : \n",
    "def string_match(str1,str2) : \n",
    "    \n",
    "    lst1 = []\n",
    "    lst2 = []\n",
    "    for i in range(len(str1)-1) : \n",
    "        lst1.append(str1[i : i+2])\n",
    "        \n",
    "    for i in range(len(str2)-1) : \n",
    "        lst2.append(str2[i:i+2])\n",
    "    \n",
    "    return len(set(lst1).intersection(lst2))\n",
    "        \n",
    "\n",
    "#approach 2 : \n",
    "def string_match(str1,str2) : \n",
    "    \n",
    "    # save the smaller one in separate variable\n",
    "    small =  str1 if len(str1) < len(str2) else str2\n",
    "    \n",
    "    c = 0 \n",
    "    for i in range(len(small)-1) : \n",
    "        if small[i : i+2] in str1 : \n",
    "            c = c +1\n",
    "    \n",
    "    return c\n",
    "\n",
    "str1 = 'xxcaazz'\n",
    "str2 = 'xxbaaz'\n",
    "\n",
    "string_match(str1,str2)"
   ]
  },
  {
   "cell_type": "markdown",
   "id": "a415fa39",
   "metadata": {},
   "source": [
    "*** \n",
    "### Assignment  9\n",
    "\n",
    "\n",
    "- Return the sum of the numbers in the list, except ignore sections of numbers starting with a 7 and extending to the next 8\n",
    "  (every 7 will be followed by at least one 8).\n",
    "- Return 0 for no numbers.\n",
    "- EXAMPLE:\n",
    " - sum78([1, 2, 2]) → 5\n",
    " - sum78([1, 2, 2, 7, 99, 99, 8]) → 5\n",
    " - sum78([1, 1, 7, 8, 2]) → 4\n"
   ]
  },
  {
   "cell_type": "code",
   "execution_count": 101,
   "id": "2a6b6adb",
   "metadata": {},
   "outputs": [
    {
     "data": {
      "text/plain": [
       "4"
      ]
     },
     "execution_count": 101,
     "metadata": {},
     "output_type": "execute_result"
    }
   ],
   "source": [
    "def sum78(lst) : \n",
    "    \n",
    "    add = 0\n",
    "    flag = True \n",
    "    \n",
    "    for item in lst : \n",
    "        if flag == True and item not in [7,8] : \n",
    "            add = add + item\n",
    "        \n",
    "        elif item == 7 : \n",
    "            flag = False\n",
    "        \n",
    "        elif item == 8 : \n",
    "            flag = True\n",
    "\n",
    "    return add\n",
    "\n",
    "\n",
    "lst = [1, 1, 7, 8, 2]\n",
    "sum78(lst)"
   ]
  },
  {
   "cell_type": "markdown",
   "id": "93abd31e",
   "metadata": {},
   "source": [
    "***\n",
    "### Assignment 10 : \n",
    "\n",
    "- We have 2 variables. fr and d. fr is a list of strings and d is a dictionary with email addresses as keys and numbers as values (numbers in string format).\n",
    "- Write code to replace the email address in each of the strings in the fr list withthe associated value of that email looked up from the dictionary d.\n",
    "- If the dictionary does not contain the email found in the list, add a new entryin the dictionary for the email found in the fr list. The value for this new email key will be the next highest value number in the dictionary in string format.\n",
    "- Once the dictionary is populated with this new email key and a new number value,\n",
    "- replace that email's occurrence in the fr list with the number value.\n",
    "- The output of running your completed code should be the following:\n",
    "  - Value of fr: ['199|4|11|GDSPV', '199|16|82|GDSPV', '205|12|82|GDSPV', '206|19|82|GDSPV']\n",
    "  - Value of d: {'7@comp1.COM': '199', '8@comp4.COM': '200', '13@comp1.COM': '205', '26@comp1.COM': '206'}\n",
    "\n",
    "\n",
    "\n",
    "### Output : \n",
    "    fr = [\n",
    "    '7@comp1.COM|4|11|GDSPV',\n",
    "    '7@comp1.COM|16|82|GDSPV',\n",
    "    '13@comp1.COM|12|82|GDSPV',\n",
    "    '26@comp1.COM|19|82|GDSPV'\n",
    "    ]\n",
    "\n",
    "    d= {\n",
    "    '7@comp1.COM': '199',\n",
    "    '8@comp4.COM': '200',\n",
    "    '13@comp1.COM': '205'\n",
    "    }\n"
   ]
  },
  {
   "cell_type": "code",
   "execution_count": 157,
   "id": "e1370e6a",
   "metadata": {},
   "outputs": [
    {
     "data": {
      "text/plain": [
       "['7@comp1.COM|4|11|GDSPV',\n",
       " '7@comp1.COM|16|82|GDSPV',\n",
       " '13@comp1.COM|12|82|GDSPV',\n",
       " '26@comp1.COM|19|82|GDSPV']"
      ]
     },
     "execution_count": 157,
     "metadata": {},
     "output_type": "execute_result"
    }
   ],
   "source": [
    "fr = ['199|4|11|GDSPV', '199|16|82|GDSPV', '205|12|82|GDSPV', '206|19|82|GDSPV']\n",
    "d = {'7@comp1.COM': '199', '8@comp4.COM': '200', '13@comp1.COM': '205', '26@comp1.COM': '206'}\n",
    "\n",
    "\n",
    "for i,item in enumerate( fr) : \n",
    "    num = str(item.split('|')[0])\n",
    "    \n",
    "    #get key from value : VVIMP \n",
    "    key = list(d.keys())[list(d.values()).index(num)]\n",
    "    \n",
    "    \n",
    "    # replace with key \n",
    "    item = item.replace(num,key)\n",
    "    \n",
    "    fr[i] = item\n",
    "    \n",
    "fr"
   ]
  },
  {
   "cell_type": "code",
   "execution_count": 133,
   "id": "7ccef15c",
   "metadata": {},
   "outputs": [],
   "source": []
  },
  {
   "cell_type": "code",
   "execution_count": null,
   "id": "25efa46f",
   "metadata": {},
   "outputs": [],
   "source": []
  },
  {
   "cell_type": "code",
   "execution_count": null,
   "id": "a481cd4a",
   "metadata": {},
   "outputs": [],
   "source": []
  },
  {
   "cell_type": "code",
   "execution_count": null,
   "id": "403cd473",
   "metadata": {},
   "outputs": [],
   "source": []
  },
  {
   "cell_type": "code",
   "execution_count": null,
   "id": "1e268598",
   "metadata": {},
   "outputs": [],
   "source": []
  },
  {
   "cell_type": "code",
   "execution_count": null,
   "id": "9610bf16",
   "metadata": {},
   "outputs": [],
   "source": []
  }
 ],
 "metadata": {
  "kernelspec": {
   "display_name": "Python 3 (ipykernel)",
   "language": "python",
   "name": "python3"
  },
  "language_info": {
   "codemirror_mode": {
    "name": "ipython",
    "version": 3
   },
   "file_extension": ".py",
   "mimetype": "text/x-python",
   "name": "python",
   "nbconvert_exporter": "python",
   "pygments_lexer": "ipython3",
   "version": "3.9.13"
  }
 },
 "nbformat": 4,
 "nbformat_minor": 5
}
