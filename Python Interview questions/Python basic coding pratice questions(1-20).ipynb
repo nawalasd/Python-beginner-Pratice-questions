{
 "cells": [
  {
   "cell_type": "markdown",
   "id": "185584f5",
   "metadata": {},
   "source": [
    "### Question 1 \n",
    "\n",
    "* Addition of two numbers in python ( input 2 numbers and add them)"
   ]
  },
  {
   "cell_type": "code",
   "execution_count": 17,
   "id": "a2c03383",
   "metadata": {},
   "outputs": [
    {
     "name": "stdout",
     "output_type": "stream",
     "text": [
      "Enter the first number : 1\n",
      "Enter the second number : 2\n",
      "\n",
      "Sum of 1 and 2 = 3\n"
     ]
    }
   ],
   "source": [
    "num1 = int(input('Enter the first number : '))\n",
    "num2 = int(input('Enter the second number : '))\n",
    "print()\n",
    "\n",
    "def sum1(a,b) : \n",
    "    return a+b \n",
    "\n",
    "\n",
    "answer = sum1(num1,num2)\n",
    "\n",
    "print(f\"Sum of {num1} and {num2} = {answer}\")"
   ]
  },
  {
   "cell_type": "markdown",
   "id": "22d72dad",
   "metadata": {},
   "source": [
    "---\n",
    "### Question 2 : \n",
    "\n",
    "* Take n number of input and add them : \n"
   ]
  },
  {
   "cell_type": "code",
   "execution_count": null,
   "id": "f9ab6bd8",
   "metadata": {},
   "outputs": [],
   "source": [
    "numbers = input('Enter the numbers (comma separated) : ')\n",
    "\n",
    "\n",
    "numbers = [int(num) for num in numbers.split(',')]  #convert in to list\n",
    "\n",
    "\n",
    "def addition(numbers) : \n",
    "    return sum(numbers)\n",
    "        \n",
    "\n",
    "\n",
    "print(addition(numbers))"
   ]
  },
  {
   "cell_type": "markdown",
   "id": "51497b2f",
   "metadata": {},
   "source": [
    "---\n",
    "### Question 3 \n",
    "\n",
    "* Calculate simple interest \n",
    "* \n",
    "        \n",
    "            Formula :\n",
    "            Simple Interest  =  princlple Amount *  Rate of Interest * Time\n",
    "\n"
   ]
  },
  {
   "cell_type": "code",
   "execution_count": null,
   "id": "05ac8fe6",
   "metadata": {},
   "outputs": [],
   "source": [
    "principle_amount = int(input('Enter the principle amt : '))\n",
    "roi = float(input('Enter the ROI (with %) : '))/100\n",
    "time = int(input('Enter the time period in year : '))\n",
    "print()\n",
    "\n",
    "\n",
    "def si(principle_amount,roi,time) : \n",
    "    return (principle_amount * roi * time)\n",
    "\n",
    "\n",
    "si = si(principle_amount,roi,time)\n"
   ]
  },
  {
   "cell_type": "markdown",
   "id": "3eae8342",
   "metadata": {},
   "source": [
    "---\n",
    "### Question 4 \n",
    "\n",
    "* Check the number odd or even "
   ]
  },
  {
   "cell_type": "code",
   "execution_count": 10,
   "id": "a15080d1",
   "metadata": {},
   "outputs": [
    {
     "name": "stdout",
     "output_type": "stream",
     "text": [
      "Enter the number : 56\n",
      "\n",
      "number is even !\n"
     ]
    }
   ],
   "source": [
    "num = int(input('Enter the number : '))\n",
    "print()\n",
    "\n",
    "def check_odd_even(num) : \n",
    "    \n",
    "    if num % 2 == 0 : \n",
    "        return 'number is even !'\n",
    "    \n",
    "    else : return 'number is odd'\n",
    "\n",
    "\n",
    "\n",
    "answer = check_odd_even(num)\n",
    "\n",
    "print(answer)"
   ]
  },
  {
   "cell_type": "markdown",
   "id": "72dc73b1",
   "metadata": {},
   "source": [
    "---\n",
    "### Question 5 : \n",
    "\n",
    "* Check number is divisible by 5 or not"
   ]
  },
  {
   "cell_type": "code",
   "execution_count": 11,
   "id": "fbdc64ac",
   "metadata": {},
   "outputs": [
    {
     "name": "stdout",
     "output_type": "stream",
     "text": [
      "Enter the number : 45\n",
      "\n",
      "number is div by 5 !\n"
     ]
    }
   ],
   "source": [
    "num = int(input('Enter the number : '))\n",
    "print()\n",
    "\n",
    "def check_5(num) : \n",
    "    \n",
    "    if num % 5 == 0 : \n",
    "        return 'number is div by 5 !'\n",
    "    \n",
    "    else : return 'number is not div by 5'\n",
    "\n",
    "\n",
    "\n",
    "answer = check_5(num)\n",
    "\n",
    "print(answer)"
   ]
  },
  {
   "cell_type": "markdown",
   "id": "cc0813c6",
   "metadata": {},
   "source": [
    "--- \n",
    "### Question 6\n",
    "\n",
    "* Check year is leap year or not\n",
    "* An year is said to be leap year if it divisible by 4 and not divisible by 100,\n",
    "  with an exception that it is divisible by 400."
   ]
  },
  {
   "cell_type": "code",
   "execution_count": 17,
   "id": "86a39df7",
   "metadata": {},
   "outputs": [
    {
     "name": "stdout",
     "output_type": "stream",
     "text": [
      "Enter the year : 1996\n",
      "1996 is leap year\n"
     ]
    }
   ],
   "source": [
    "year = int(input('Enter the year : '))\n",
    "\n",
    "def check_leap(year) :\n",
    "     \n",
    "    #logic\n",
    "    if (year % 4 == 0 and year % 100 != 0) or year % 400 == 0 : \n",
    "        return f\"{year} is leap year\"\n",
    "    \n",
    "    else : \n",
    "        return f\"{year} is not leap year\"\n",
    "    \n",
    "    \n",
    "    \n",
    "\n",
    "print(check_leap(year))"
   ]
  },
  {
   "cell_type": "markdown",
   "id": "833348b9",
   "metadata": {},
   "source": [
    "--- \n",
    "### Question 7 : Print the number of days in a month for particular year\n",
    "    \n",
    "\n",
    "         Take the number value of month  as input and display numbers of days in it\n",
    "         logic :\n",
    "        1\tJanuary   Jan\t31\n",
    "        2\tFebruary  Feb\t28 (29 in leap years)\n",
    "        3\tMarch     Mar\t31\n",
    "        4\tApril     Apr\t30\n",
    "        5\tMay       May\t31\n",
    "        6   June      Jun\t30\n",
    "        7\tJuly      Jul\t31\n",
    "        8\tAugust    Aug\t31\n",
    "        9\tSeptember Sep\t30\n",
    "        10\tOctober   Oct\t31\n",
    "        11\tNovember  Nov\t30\n",
    "        12\tDecember  Dec\t31"
   ]
  },
  {
   "cell_type": "code",
   "execution_count": 23,
   "id": "f5936fd1",
   "metadata": {},
   "outputs": [
    {
     "name": "stdout",
     "output_type": "stream",
     "text": [
      "Enter the month (1-12) : 2\n",
      "Enter the year : 2023\n"
     ]
    },
    {
     "data": {
      "text/plain": [
       "'2 month has 28 days'"
      ]
     },
     "execution_count": 23,
     "metadata": {},
     "output_type": "execute_result"
    }
   ],
   "source": [
    "month = int(input('Enter the month (1-12) : '))\n",
    "year =  int(input('Enter the year : '))\n",
    "\n",
    "\n",
    "months_31  = [1,3,5,7,8,10,12]\n",
    "\n",
    "def check_leap(year) :\n",
    "     \n",
    "    #logic\n",
    "    if (year % 4 == 0 and year % 100 != 0) or year % 400 == 0 : \n",
    "        return True\n",
    "    \n",
    "    else : \n",
    "        return False\n",
    "\n",
    "def check_month_days(month,year) : \n",
    "    \n",
    "    if month in months_31 :\n",
    "        return f\"{month} month has 31 days\"\n",
    "    \n",
    "    elif month == 2 : \n",
    "        \n",
    "        #check if leap year or not         \n",
    "        if check_leap(year) : \n",
    "            \n",
    "            return f\"{month} month has 29 days\"\n",
    "        \n",
    "        else : return f\"{month} month has 28 days\"\n",
    "        \n",
    "    else : f\"{month} month has 30 days\"\n",
    "\n",
    "check_month_days(month,year)"
   ]
  },
  {
   "cell_type": "markdown",
   "id": "a9fdc81a",
   "metadata": {},
   "source": [
    "---\n",
    "### Question 8 : \n",
    "\n",
    "* Find the greatest amoung 3 number\n",
    "    "
   ]
  },
  {
   "cell_type": "code",
   "execution_count": 31,
   "id": "202ec384",
   "metadata": {},
   "outputs": [
    {
     "name": "stdout",
     "output_type": "stream",
     "text": [
      "Enter the 3 numbers : 5,6,3\n"
     ]
    },
    {
     "data": {
      "text/plain": [
       "6"
      ]
     },
     "execution_count": 31,
     "metadata": {},
     "output_type": "execute_result"
    }
   ],
   "source": [
    "numbers  = input(\"Enter the 3 numbers : \")\n",
    "\n",
    "numbers = [int(num) for num in numbers.split(',')]\n",
    "\n",
    "# approach 1 \n",
    "def find_greater_number(numbers) : \n",
    "    \n",
    "    numbers.sort(reverse =  True)\n",
    "    \n",
    "    return numbers[0]\n",
    "\n",
    "\n",
    "# approach 2\n",
    "def find_greater_number(numbers) : \n",
    "    \n",
    "    high = numbers[0]\n",
    "    for num in numbers[1:] : \n",
    "        if num > high : \n",
    "            high = num \n",
    "    \n",
    "    return high\n",
    "\n",
    "\n",
    "find_greater_number(numbers)"
   ]
  },
  {
   "cell_type": "markdown",
   "id": "42212ef8",
   "metadata": {},
   "source": [
    "--- \n",
    "### Question 9 : \n",
    "\n",
    "* Print 3 words in dictionary order\n",
    "\n"
   ]
  },
  {
   "cell_type": "code",
   "execution_count": null,
   "id": "68671bb5",
   "metadata": {},
   "outputs": [],
   "source": [
    "# approach 1 : \n",
    "\n",
    "w1 = input(\"Enter the 1st word :\")\n",
    "w2 = input(\"Enter the 2nd word :\")\n",
    "w3 = input(\"Enter the 3rd word :\")\n",
    "\n",
    "# get the min of 3 words \n",
    "x= min(w1,w2,w3)\n",
    "\n",
    "if x == w1 : \n",
    "    print(x, min(w2,w3),max(w2,w3))\n",
    "    \n",
    "elif x == w2 : \n",
    "\n",
    "    print(x, min(w1,w3),max(w1,w3))\n",
    "else : \n",
    "    print(x, min(w2,w1),max(w1,w2))"
   ]
  },
  {
   "cell_type": "code",
   "execution_count": 60,
   "id": "c5cf9816",
   "metadata": {},
   "outputs": [
    {
     "name": "stdout",
     "output_type": "stream",
     "text": [
      "Enter the words (comma seperated) : nawal,avi,amyur\n",
      "['amyur', 'avi', 'nawal']\n"
     ]
    }
   ],
   "source": [
    "# approach 2 : \n",
    "\n",
    "words = list(input('Enter the words (comma seperated) : ').split(','))\n",
    "\n",
    "words.sort()\n",
    "print(words)\n"
   ]
  },
  {
   "cell_type": "code",
   "execution_count": null,
   "id": "da115a3d",
   "metadata": {},
   "outputs": [],
   "source": [
    "s = []\n",
    "\n",
    "s = "
   ]
  },
  {
   "cell_type": "code",
   "execution_count": null,
   "id": "4c0d3d22",
   "metadata": {},
   "outputs": [],
   "source": []
  },
  {
   "cell_type": "code",
   "execution_count": null,
   "id": "98effd3c",
   "metadata": {},
   "outputs": [],
   "source": []
  },
  {
   "cell_type": "code",
   "execution_count": null,
   "id": "70ad4638",
   "metadata": {},
   "outputs": [],
   "source": []
  },
  {
   "cell_type": "code",
   "execution_count": null,
   "id": "4d5799f3",
   "metadata": {},
   "outputs": [],
   "source": []
  },
  {
   "cell_type": "code",
   "execution_count": null,
   "id": "98d52cef",
   "metadata": {},
   "outputs": [],
   "source": []
  },
  {
   "cell_type": "code",
   "execution_count": null,
   "id": "93e61c1c",
   "metadata": {},
   "outputs": [],
   "source": []
  },
  {
   "cell_type": "code",
   "execution_count": null,
   "id": "f99d9a72",
   "metadata": {},
   "outputs": [],
   "source": []
  },
  {
   "cell_type": "code",
   "execution_count": null,
   "id": "4affb5c4",
   "metadata": {},
   "outputs": [],
   "source": []
  }
 ],
 "metadata": {
  "kernelspec": {
   "display_name": "Python 3 (ipykernel)",
   "language": "python",
   "name": "python3"
  },
  "language_info": {
   "codemirror_mode": {
    "name": "ipython",
    "version": 3
   },
   "file_extension": ".py",
   "mimetype": "text/x-python",
   "name": "python",
   "nbconvert_exporter": "python",
   "pygments_lexer": "ipython3",
   "version": "3.9.13"
  }
 },
 "nbformat": 4,
 "nbformat_minor": 5
}
