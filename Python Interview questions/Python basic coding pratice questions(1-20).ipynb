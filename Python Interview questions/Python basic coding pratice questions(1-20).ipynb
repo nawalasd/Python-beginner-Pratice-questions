{
 "cells": [
  {
   "cell_type": "markdown",
   "id": "a584e608",
   "metadata": {},
   "source": [
    "### Question 1 \n",
    "\n",
    "* Addition of two numbers in python ( input 2 numbers and add them)"
   ]
  },
  {
   "cell_type": "code",
   "execution_count": 17,
   "id": "78367931",
   "metadata": {},
   "outputs": [
    {
     "name": "stdout",
     "output_type": "stream",
     "text": [
      "Enter the first number : 1\n",
      "Enter the second number : 2\n",
      "\n",
      "Sum of 1 and 2 = 3\n"
     ]
    }
   ],
   "source": [
    "num1 = int(input('Enter the first number : '))\n",
    "num2 = int(input('Enter the second number : '))\n",
    "print()\n",
    "\n",
    "def sum1(a,b) : \n",
    "    return a+b \n",
    "\n",
    "\n",
    "answer = sum1(num1,num2)\n",
    "\n",
    "print(f\"Sum of {num1} and {num2} = {answer}\")"
   ]
  },
  {
   "cell_type": "markdown",
   "id": "3e9bc136",
   "metadata": {},
   "source": [
    "---\n",
    "### Question 2 : \n",
    "\n",
    "* Take n number of input and add them : \n"
   ]
  },
  {
   "cell_type": "code",
   "execution_count": null,
   "id": "7165e398",
   "metadata": {},
   "outputs": [],
   "source": [
    "numbers = input('Enter the numbers (comma separated) : ')\n",
    "\n",
    "\n",
    "numbers = [int(num) for num in numbers.split(',')]  #convert in to list\n",
    "\n",
    "\n",
    "def addition(numbers) : \n",
    "    return sum(numbers)\n",
    "        \n",
    "\n",
    "\n",
    "print(addition(numbers))"
   ]
  },
  {
   "cell_type": "markdown",
   "id": "9a8c0549",
   "metadata": {},
   "source": [
    "---\n",
    "### Question 3 \n",
    "\n",
    "* Calculate simple interest \n",
    "* \n",
    "        \n",
    "            Formula :\n",
    "            Simple Interest  =  princlple Amount *  Rate of Interest * Time\n",
    "\n"
   ]
  },
  {
   "cell_type": "code",
   "execution_count": null,
   "id": "f7ca58d3",
   "metadata": {},
   "outputs": [],
   "source": [
    "principle_amount = int(input('Enter the principle amt : '))\n",
    "roi = float(input('Enter the ROI (with %) : '))/100\n",
    "time = int(input('Enter the time period in year : '))\n",
    "print()\n",
    "\n",
    "\n",
    "def si(principle_amount,roi,time) : \n",
    "    return (principle_amount * roi * time)\n",
    "\n",
    "\n",
    "si = si(principle_amount,roi,time)\n"
   ]
  },
  {
   "cell_type": "markdown",
   "id": "8ca17223",
   "metadata": {},
   "source": [
    "---\n",
    "### Question 4 \n",
    "\n",
    "* Check the number odd or even "
   ]
  },
  {
   "cell_type": "code",
   "execution_count": 10,
   "id": "9738aef4",
   "metadata": {},
   "outputs": [
    {
     "name": "stdout",
     "output_type": "stream",
     "text": [
      "Enter the number : 56\n",
      "\n",
      "number is even !\n"
     ]
    }
   ],
   "source": [
    "num = int(input('Enter the number : '))\n",
    "print()\n",
    "\n",
    "def check_odd_even(num) : \n",
    "    \n",
    "    if num % 2 == 0 : \n",
    "        return 'number is even !'\n",
    "    \n",
    "    else : return 'number is odd'\n",
    "\n",
    "\n",
    "\n",
    "answer = check_odd_even(num)\n",
    "\n",
    "print(answer)"
   ]
  },
  {
   "cell_type": "markdown",
   "id": "c9454d46",
   "metadata": {},
   "source": [
    "---\n",
    "### Question 5 : \n",
    "\n",
    "* Check number is divisible by 5 or not"
   ]
  },
  {
   "cell_type": "code",
   "execution_count": 11,
   "id": "0239f1bc",
   "metadata": {},
   "outputs": [
    {
     "name": "stdout",
     "output_type": "stream",
     "text": [
      "Enter the number : 45\n",
      "\n",
      "number is div by 5 !\n"
     ]
    }
   ],
   "source": [
    "num = int(input('Enter the number : '))\n",
    "print()\n",
    "\n",
    "def check_5(num) : \n",
    "    \n",
    "    if num % 5 == 0 : \n",
    "        return 'number is div by 5 !'\n",
    "    \n",
    "    else : return 'number is not div by 5'\n",
    "\n",
    "\n",
    "\n",
    "answer = check_5(num)\n",
    "\n",
    "print(answer)"
   ]
  },
  {
   "cell_type": "markdown",
   "id": "0cbfab6e",
   "metadata": {},
   "source": [
    "--- \n",
    "### Question 6\n",
    "\n",
    "* Check year is leap year or not\n",
    "* An year is said to be leap year if it divisible by 4 and not divisible by 100,\n",
    "  with an exception that it is divisible by 400."
   ]
  },
  {
   "cell_type": "code",
   "execution_count": 17,
   "id": "a6553bd5",
   "metadata": {},
   "outputs": [
    {
     "name": "stdout",
     "output_type": "stream",
     "text": [
      "Enter the year : 1996\n",
      "1996 is leap year\n"
     ]
    }
   ],
   "source": [
    "year = int(input('Enter the year : '))\n",
    "\n",
    "def check_leap(year) :\n",
    "     \n",
    "    #logic\n",
    "    if (year % 4 == 0 and year % 100 != 0) or year % 400 == 0 : \n",
    "        return f\"{year} is leap year\"\n",
    "    \n",
    "    else : \n",
    "        return f\"{year} is not leap year\"\n",
    "    \n",
    "    \n",
    "    \n",
    "\n",
    "print(check_leap(year))"
   ]
  },
  {
   "cell_type": "markdown",
   "id": "a4b5ee26",
   "metadata": {},
   "source": [
    "--- \n",
    "### Question 7 : Print the number of days in a month for particular year\n",
    "    \n",
    "\n",
    "         Take the number value of month  as input and display numbers of days in it\n",
    "         logic :\n",
    "        1\tJanuary   Jan\t31\n",
    "        2\tFebruary  Feb\t28 (29 in leap years)\n",
    "        3\tMarch     Mar\t31\n",
    "        4\tApril     Apr\t30\n",
    "        5\tMay       May\t31\n",
    "        6   June      Jun\t30\n",
    "        7\tJuly      Jul\t31\n",
    "        8\tAugust    Aug\t31\n",
    "        9\tSeptember Sep\t30\n",
    "        10\tOctober   Oct\t31\n",
    "        11\tNovember  Nov\t30\n",
    "        12\tDecember  Dec\t31"
   ]
  },
  {
   "cell_type": "code",
   "execution_count": 23,
   "id": "b1c65933",
   "metadata": {},
   "outputs": [
    {
     "name": "stdout",
     "output_type": "stream",
     "text": [
      "Enter the month (1-12) : 2\n",
      "Enter the year : 2023\n"
     ]
    },
    {
     "data": {
      "text/plain": [
       "'2 month has 28 days'"
      ]
     },
     "execution_count": 23,
     "metadata": {},
     "output_type": "execute_result"
    }
   ],
   "source": [
    "month = int(input('Enter the month (1-12) : '))\n",
    "year =  int(input('Enter the year : '))\n",
    "\n",
    "\n",
    "months_31  = [1,3,5,7,8,10,12]\n",
    "\n",
    "def check_leap(year) :\n",
    "     \n",
    "    #logic\n",
    "    if (year % 4 == 0 and year % 100 != 0) or year % 400 == 0 : \n",
    "        return True\n",
    "    \n",
    "    else : \n",
    "        return False\n",
    "\n",
    "def check_month_days(month,year) : \n",
    "    \n",
    "    if month in months_31 :\n",
    "        return f\"{month} month has 31 days\"\n",
    "    \n",
    "    elif month == 2 : \n",
    "        \n",
    "        #check if leap year or not         \n",
    "        if check_leap(year) : \n",
    "            \n",
    "            return f\"{month} month has 29 days\"\n",
    "        \n",
    "        else : return f\"{month} month has 28 days\"\n",
    "        \n",
    "    else : f\"{month} month has 30 days\"\n",
    "\n",
    "check_month_days(month,year)"
   ]
  },
  {
   "cell_type": "markdown",
   "id": "889ec5fc",
   "metadata": {},
   "source": [
    "---\n",
    "### Question 8 : \n",
    "\n",
    "* Find the greatest amoung 3 number\n",
    "    "
   ]
  },
  {
   "cell_type": "code",
   "execution_count": 31,
   "id": "607186a0",
   "metadata": {},
   "outputs": [
    {
     "name": "stdout",
     "output_type": "stream",
     "text": [
      "Enter the 3 numbers : 5,6,3\n"
     ]
    },
    {
     "data": {
      "text/plain": [
       "6"
      ]
     },
     "execution_count": 31,
     "metadata": {},
     "output_type": "execute_result"
    }
   ],
   "source": [
    "numbers  = input(\"Enter the 3 numbers : \")\n",
    "\n",
    "numbers = [int(num) for num in numbers.split(',')]\n",
    "\n",
    "# approach 1 \n",
    "def find_greater_number(numbers) : \n",
    "    \n",
    "    numbers.sort(reverse =  True)\n",
    "    \n",
    "    return numbers[0]\n",
    "\n",
    "\n",
    "# approach 2\n",
    "def find_greater_number(numbers) : \n",
    "    \n",
    "    high = numbers[0]\n",
    "    for num in numbers[1:] : \n",
    "        if num > high : \n",
    "            high = num \n",
    "    \n",
    "    return high\n",
    "\n",
    "\n",
    "find_greater_number(numbers)"
   ]
  },
  {
   "cell_type": "markdown",
   "id": "2aeace8a",
   "metadata": {},
   "source": [
    "--- \n",
    "### Question 9 : \n",
    "\n",
    "* Print 3 words in dictionary order\n",
    "\n"
   ]
  },
  {
   "cell_type": "code",
   "execution_count": null,
   "id": "f7b3a976",
   "metadata": {},
   "outputs": [],
   "source": [
    "# approach 1 : \n",
    "\n",
    "w1 = input(\"Enter the 1st word :\")\n",
    "w2 = input(\"Enter the 2nd word :\")\n",
    "w3 = input(\"Enter the 3rd word :\")\n",
    "\n",
    "# get the min of 3 words \n",
    "x= min(w1,w2,w3)\n",
    "\n",
    "if x == w1 : \n",
    "    print(x, min(w2,w3),max(w2,w3))\n",
    "    \n",
    "elif x == w2 : \n",
    "\n",
    "    print(x, min(w1,w3),max(w1,w3))\n",
    "else : \n",
    "    print(x, min(w2,w1),max(w1,w2))"
   ]
  },
  {
   "cell_type": "code",
   "execution_count": null,
   "id": "16e1d5ba",
   "metadata": {},
   "outputs": [],
   "source": [
    "# approach 2 : \n",
    "words = list(input('Enter the words (comma seperated) : ').split(','))\n",
    "words.sort()\n"
   ]
  },
  {
   "cell_type": "markdown",
   "id": "2893ccbe",
   "metadata": {},
   "source": [
    "--- \n",
    "### Question 10 : \n",
    "\n",
    "* first 10 natural numbers : \n",
    "* first 10 natural numbers in reverse order : "
   ]
  },
  {
   "cell_type": "code",
   "execution_count": 91,
   "id": "c8d3968c",
   "metadata": {},
   "outputs": [
    {
     "name": "stdout",
     "output_type": "stream",
     "text": [
      "First 10 natural numbers : \n",
      "1 2 3 4 5 6 7 8 9 10 \n",
      "\n",
      "First 10 natural numbers in reverse order : \n",
      "10 9 8 7 6 5 4 3 2 1 "
     ]
    }
   ],
   "source": [
    "\n",
    "print('First 10 natural numbers : ')\n",
    "for i in range(1,11) : \n",
    "    print(i, end =' ')\n",
    "    \n",
    "\n",
    "print('\\n')\n",
    "print('First 10 natural numbers in reverse order : ')\n",
    "for i in range(10,0,-1) :\n",
    "    print(i,end =' ')"
   ]
  },
  {
   "cell_type": "markdown",
   "id": "826aada4",
   "metadata": {},
   "source": [
    "--- \n",
    "### Question 11 : \n",
    "\n",
    "* first 10 even  numbers : \n",
    "* first 10 odd numbers : "
   ]
  },
  {
   "cell_type": "code",
   "execution_count": 123,
   "id": "e7daf47c",
   "metadata": {},
   "outputs": [
    {
     "name": "stdout",
     "output_type": "stream",
     "text": [
      "First 10 even numbers :\n",
      "2 4 6 8 10 12 14 16 18 20 \n",
      "\n",
      "First 10 odd numbers :\n",
      "1 3 5 7 9 11 13 15 17 19 \n"
     ]
    }
   ],
   "source": [
    "#even\n",
    "print('First 10 even numbers :')\n",
    "i = 1\n",
    "a = 2\n",
    "while i <= 10 :  \n",
    "    print(a,end =' ')\n",
    "    a+=2\n",
    "    i+=1\n",
    "    \n",
    "print('\\n')\n",
    "\n",
    "\n",
    "#odd \n",
    "print('First 10 odd numbers :')\n",
    "i = 1\n",
    "a = 1\n",
    "while i <= 10 :  \n",
    "    print(a,end =' ')\n",
    "    a+=2\n",
    "    i+=1\n",
    "print()\n"
   ]
  },
  {
   "cell_type": "markdown",
   "id": "f04ba590",
   "metadata": {},
   "source": [
    "---\n",
    "### Question 12 :\n",
    "\n",
    "* first N natural numbers : "
   ]
  },
  {
   "cell_type": "code",
   "execution_count": 109,
   "id": "863f6037",
   "metadata": {},
   "outputs": [
    {
     "name": "stdout",
     "output_type": "stream",
     "text": [
      "Enter the Number : 5\n",
      "[1, 2, 3, 4, 5]\n",
      "Enter the Number : 5\n"
     ]
    },
    {
     "data": {
      "text/plain": [
       "[5, 4, 3, 2, 1]"
      ]
     },
     "execution_count": 109,
     "metadata": {},
     "output_type": "execute_result"
    }
   ],
   "source": [
    "num = int(input('Enter the Number : '))\n",
    "print([i for i in range(1,num+1)])\n",
    "\n",
    "\n",
    "# reverse order\n",
    "num = int(input('Enter the Number : '))\n",
    "[i for i in range(num,0,-1)]"
   ]
  },
  {
   "cell_type": "markdown",
   "id": "676fdd70",
   "metadata": {},
   "source": [
    "---\n",
    "### Question 13 : \n",
    "\n",
    "* Print Sum of n Natural number : \n"
   ]
  },
  {
   "cell_type": "code",
   "execution_count": 115,
   "id": "688600f7",
   "metadata": {},
   "outputs": [
    {
     "name": "stdout",
     "output_type": "stream",
     "text": [
      "Enter the Number : 5\n",
      "Sum of first 5 numbers = 15\n",
      "Sum of first 5 numbers = 15.0\n"
     ]
    }
   ],
   "source": [
    "# approach 1 : \n",
    "num = int(input('Enter the Number : '))\n",
    "\n",
    "add = 0\n",
    "for  i in range(1,num+1) : \n",
    "    add = add + i\n",
    "print(f\"Sum of first {num} numbers = {add}\")\n",
    "\n",
    "\n",
    "\n",
    "# approach 2 : sum of all natural numbers : n * (n+1)/2\n",
    "\n",
    "print(f\"Sum of first {num} numbers = {(num*(num+1))/2}\")"
   ]
  },
  {
   "cell_type": "markdown",
   "id": "1d1dfb6b",
   "metadata": {},
   "source": [
    "---\n",
    "### Questions 14 : \n",
    "\n",
    "* Print Sum of first N odd numbers : "
   ]
  },
  {
   "cell_type": "code",
   "execution_count": 130,
   "id": "3ad922fd",
   "metadata": {},
   "outputs": [
    {
     "name": "stdout",
     "output_type": "stream",
     "text": [
      "Enter the number : 10\n",
      "Sum of first 0 odd numbers = 100\n"
     ]
    }
   ],
   "source": [
    "num = int(input('Enter the number : '))\n",
    "\n",
    "i = 1\n",
    "add = 0\n",
    "while num > 0  : \n",
    "    add += i\n",
    "    i+=2\n",
    "    num -=1\n",
    "\n",
    "print(f\"Sum of first {num} odd numbers = {add}\")"
   ]
  },
  {
   "cell_type": "markdown",
   "id": "ddf5846b",
   "metadata": {},
   "source": [
    "---\n",
    "### Questions 15  : \n",
    "\n",
    "1. Factorial of a number : using loop "
   ]
  },
  {
   "cell_type": "code",
   "execution_count": 143,
   "id": "ee22b8e8",
   "metadata": {},
   "outputs": [
    {
     "name": "stdout",
     "output_type": "stream",
     "text": [
      "Enter the number : 5\n",
      "Factorial of 5 using loop = 120\n"
     ]
    }
   ],
   "source": [
    "n = int(input('Enter the number : '))\n",
    "\n",
    "def fact(n) : \n",
    "    \n",
    "    a = 1\n",
    "    #edge case : \n",
    "    if n < 0 : \n",
    "        return None\n",
    "    \n",
    "    for i in range(1,n+1) : \n",
    "        a = a * i\n",
    "        \n",
    "    return a\n",
    "\n",
    "\n",
    "\n",
    "print(f\"Factorial of {n} using loop = {fact(n)}\")"
   ]
  },
  {
   "cell_type": "markdown",
   "id": "65496d21",
   "metadata": {},
   "source": [
    "2. Factorial of a number : using recursion "
   ]
  },
  {
   "cell_type": "code",
   "execution_count": 144,
   "id": "15080e8b",
   "metadata": {},
   "outputs": [
    {
     "name": "stdout",
     "output_type": "stream",
     "text": [
      "Enter the number : 5\n",
      "Factorial of 5 using recursion = 120\n"
     ]
    }
   ],
   "source": [
    "n = int(input('Enter the number : '))\n",
    "\n",
    "def fact(n) : \n",
    "    \n",
    "    #edge case : \n",
    "    if n < 0 : \n",
    "        return None\n",
    "    \n",
    "    #base logic : \n",
    "    if n <= 1 : \n",
    "        return 1\n",
    "    \n",
    "    else : \n",
    "        ans =  n*fact(n-1)\n",
    "        return ans\n",
    "\n",
    "\n",
    "print(f\"Factorial of {n} using recursion = {fact(n)}\")"
   ]
  },
  {
   "cell_type": "markdown",
   "id": "5d277ffb",
   "metadata": {},
   "source": [
    "---\n",
    "### Questions 16  : \n",
    "\n",
    "* Calculate product of first 10 odd numbers : "
   ]
  },
  {
   "cell_type": "code",
   "execution_count": 150,
   "id": "cd9524bf",
   "metadata": {},
   "outputs": [
    {
     "name": "stdout",
     "output_type": "stream",
     "text": [
      "Product of first 10 odd numbers = 654729075\n"
     ]
    }
   ],
   "source": [
    "num = 10 \n",
    "i = 1\n",
    "\n",
    "product = 1\n",
    "\n",
    "while num > 0 : \n",
    "\n",
    "    product *= i\n",
    "    \n",
    "    i += 2\n",
    "    num-=1\n",
    "    \n",
    "print(f\"Product of first 10 odd numbers = {product}\")"
   ]
  },
  {
   "cell_type": "code",
   "execution_count": null,
   "id": "afd1546a",
   "metadata": {},
   "outputs": [],
   "source": []
  },
  {
   "cell_type": "code",
   "execution_count": null,
   "id": "86b0e763",
   "metadata": {},
   "outputs": [],
   "source": []
  },
  {
   "cell_type": "code",
   "execution_count": null,
   "id": "265357c5",
   "metadata": {},
   "outputs": [],
   "source": []
  },
  {
   "cell_type": "code",
   "execution_count": null,
   "id": "209e3ebb",
   "metadata": {},
   "outputs": [],
   "source": []
  },
  {
   "cell_type": "code",
   "execution_count": null,
   "id": "de2f4cbe",
   "metadata": {},
   "outputs": [],
   "source": []
  }
 ],
 "metadata": {
  "kernelspec": {
   "display_name": "Python 3 (ipykernel)",
   "language": "python",
   "name": "python3"
  },
  "language_info": {
   "codemirror_mode": {
    "name": "ipython",
    "version": 3
   },
   "file_extension": ".py",
   "mimetype": "text/x-python",
   "name": "python",
   "nbconvert_exporter": "python",
   "pygments_lexer": "ipython3",
   "version": "3.9.13"
  }
 },
 "nbformat": 4,
 "nbformat_minor": 5
}
