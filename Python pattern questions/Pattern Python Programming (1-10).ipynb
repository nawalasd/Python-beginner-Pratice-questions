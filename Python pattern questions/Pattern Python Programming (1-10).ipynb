{
 "cells": [
  {
   "cell_type": "markdown",
   "id": "63ba2e2c",
   "metadata": {},
   "source": [
    "***\n",
    "### Pattern 1 : \n",
    "    *****\n",
    "    *****\n",
    "    *****\n",
    "    *****\n",
    "    *****\n",
    "***"
   ]
  },
  {
   "cell_type": "code",
   "execution_count": null,
   "id": "afd2eee8",
   "metadata": {},
   "outputs": [],
   "source": [
    "for i in range(5) :\n",
    "    for j in range(5) :\n",
    "        print('*',end = '')\n",
    "    \n",
    "    print()"
   ]
  },
  {
   "cell_type": "markdown",
   "id": "d5b360a1",
   "metadata": {},
   "source": [
    "***\n",
    "### Pattern 2 : \n",
    "    *\n",
    "    **\n",
    "    ***\n",
    "    ****\n",
    "    *****\n",
    "***"
   ]
  },
  {
   "cell_type": "code",
   "execution_count": null,
   "id": "693b46e0",
   "metadata": {},
   "outputs": [],
   "source": [
    "n = 5\n",
    "\n",
    "for i in range(n) : \n",
    "    for j in range(i+1): \n",
    "        print('*',end = '')\n",
    "    print()"
   ]
  },
  {
   "cell_type": "markdown",
   "id": "f0a6e362",
   "metadata": {},
   "source": [
    "***\n",
    "### Pattern 3 : \n",
    "    1\n",
    "    1 2\n",
    "    1 2 3\n",
    "    1 2 3 4\n",
    "    1 2 3 4 5"
   ]
  },
  {
   "cell_type": "code",
   "execution_count": null,
   "id": "ba7b9a22",
   "metadata": {},
   "outputs": [],
   "source": [
    "n = 5 \n",
    "\n",
    "for i in range(1,n+1) : \n",
    "    for j in range(1,i+1) : \n",
    "        print(j,end= ' ')\n",
    "    \n",
    "    print()"
   ]
  },
  {
   "cell_type": "markdown",
   "id": "7dde2100",
   "metadata": {},
   "source": [
    "***\n",
    "### Pattern 4 : \n",
    "    A\n",
    "    B B\n",
    "    C C C\n",
    "    D D D D\n",
    "    E E E E E"
   ]
  },
  {
   "cell_type": "code",
   "execution_count": null,
   "id": "6e42553d",
   "metadata": {},
   "outputs": [],
   "source": [
    "for i in range(5) : \n",
    "    \n",
    "    letter = i + 65\n",
    "    for j in range(i+1) : \n",
    "        print(chr(letter),end= ' ')\n",
    "    \n",
    "    print()"
   ]
  },
  {
   "cell_type": "markdown",
   "id": "2c1a703d",
   "metadata": {},
   "source": [
    "***\n",
    "### Pattern 5 : \n",
    "    * * * * *\n",
    "    * * * *\n",
    "    * * *\n",
    "    * *\n",
    "    *"
   ]
  },
  {
   "cell_type": "code",
   "execution_count": null,
   "id": "45635a0b",
   "metadata": {},
   "outputs": [],
   "source": [
    "for i in range(5) : \n",
    "    for j in range(5-i) : \n",
    "        print('*',end= ' ')\n",
    "    \n",
    "    print()"
   ]
  },
  {
   "cell_type": "markdown",
   "id": "6e9697eb",
   "metadata": {},
   "source": [
    "***\n",
    "### Pattern 6\n",
    "    1 2 3 4 5\n",
    "    1 2 3 4\n",
    "    1 2 3\n",
    "    1 2\n",
    "    1"
   ]
  },
  {
   "cell_type": "code",
   "execution_count": 54,
   "id": "af1beb22",
   "metadata": {},
   "outputs": [
    {
     "name": "stdout",
     "output_type": "stream",
     "text": [
      "1 2 3 4 5 \n",
      "1 2 3 4 \n",
      "1 2 3 \n",
      "1 2 \n",
      "1 \n"
     ]
    }
   ],
   "source": [
    "for i in range(5) : \n",
    "    for j in range(5-i) : \n",
    "        print(j+1,end=\" \")\n",
    "    \n",
    "    print()"
   ]
  },
  {
   "cell_type": "code",
   "execution_count": null,
   "id": "9afe4beb",
   "metadata": {},
   "outputs": [],
   "source": []
  },
  {
   "cell_type": "code",
   "execution_count": null,
   "id": "7fb5a7f3",
   "metadata": {},
   "outputs": [],
   "source": []
  },
  {
   "cell_type": "code",
   "execution_count": null,
   "id": "a938e21c",
   "metadata": {},
   "outputs": [],
   "source": []
  },
  {
   "cell_type": "code",
   "execution_count": null,
   "id": "4f9999a1",
   "metadata": {},
   "outputs": [],
   "source": []
  },
  {
   "cell_type": "code",
   "execution_count": null,
   "id": "30035dc4",
   "metadata": {},
   "outputs": [],
   "source": []
  },
  {
   "cell_type": "code",
   "execution_count": null,
   "id": "bbb9fa36",
   "metadata": {},
   "outputs": [],
   "source": []
  }
 ],
 "metadata": {
  "kernelspec": {
   "display_name": "Python 3 (ipykernel)",
   "language": "python",
   "name": "python3"
  },
  "language_info": {
   "codemirror_mode": {
    "name": "ipython",
    "version": 3
   },
   "file_extension": ".py",
   "mimetype": "text/x-python",
   "name": "python",
   "nbconvert_exporter": "python",
   "pygments_lexer": "ipython3",
   "version": "3.9.13"
  }
 },
 "nbformat": 4,
 "nbformat_minor": 5
}
